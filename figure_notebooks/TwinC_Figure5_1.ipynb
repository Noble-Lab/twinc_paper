{
 "cells": [
  {
   "cell_type": "markdown",
   "id": "fc986d50-665d-4d0e-8d7a-ff48a4bff96e",
   "metadata": {},
   "source": [
    "# In this notebook, we assemble Figure 5 transcription factor importance boxplot for the TwinC paper. "
   ]
  },
  {
   "cell_type": "code",
   "execution_count": 3,
   "id": "e5e99917-1375-4e84-8793-4f33bfd142e3",
   "metadata": {},
   "outputs": [
    {
     "name": "stdout",
     "output_type": "stream",
     "text": [
      "figures directory exists\n"
     ]
    }
   ],
   "source": [
    "import os\n",
    "import mne\n",
    "import scipy\n",
    "import numpy as np\n",
    "import pandas as pd\n",
    "import seaborn as sns\n",
    "from scipy import stats\n",
    "from pyjaspar import jaspardb\n",
    "import matplotlib.pyplot as plt\n",
    "from scipy.stats import mannwhitneyu\n",
    "from matplotlib.colors import hsv_to_rgb\n",
    "\n",
    "if not os.path.exists(f\"../../figures\"):\n",
    "    os.system(f\"mkdir ../../figures\")\n",
    "else:\n",
    "    print(f\"figures directory exists\")\n",
    "\n",
    "if not os.path.exists(f\"../../figures/tf_analysis\"):\n",
    "    os.system(f\"mkdir ../../figures/tf_analysis\")\n",
    "else:\n",
    "    print(f\"tf_analysis figures directory exists\")"
   ]
  },
  {
   "cell_type": "code",
   "execution_count": 4,
   "id": "d77c55c5-24cf-4a66-b026-103386f155b0",
   "metadata": {},
   "outputs": [
    {
     "name": "stdout",
     "output_type": "stream",
     "text": [
      "enriched_tfs: 3.283577298835756e-06\n",
      "depleted_tfs: 1.3884558812824819e-07\n",
      "112 492\n",
      "mwu p-value: 1.4120139697097105e-27\n",
      "mwu AUROC: 0.8272357723577236\n"
     ]
    },
    {
     "name": "stderr",
     "output_type": "stream",
     "text": [
      "/tmp/ipykernel_1959847/2041204867.py:59: UserWarning: FixedFormatter should only be used together with FixedLocator\n",
      "  axis.set_xticklabels([f\"Enriched TF motifs \\n(n={len(enriched_tfs)})\", f\"Other TF motifs \\n(n={len(depleted_tfs)})\"])\n"
     ]
    },
    {
     "data": {
      "image/png": "[encoded data removed]",
      "text/plain": [
       "<Figure size 400x400 with 1 Axes>"
      ]
     },
     "metadata": {},
     "output_type": "display_data"
    }
   ],
   "source": [
    "avg_attrs_np_common = pd.read_csv(\"../../results/tf_analysis/tf_plot_motifs.csv\")\n",
    "\n",
    "SMALL_SIZE = 10\n",
    "MEDIUM_SIZE = 14\n",
    "BIGGER_SIZE = 20\n",
    "\n",
    "plt.rcParams['axes.facecolor']='white'\n",
    "plt.rc('font', size=SMALL_SIZE)          \n",
    "plt.rc('axes', titlesize=SMALL_SIZE)    \n",
    "plt.rc('axes', labelsize=MEDIUM_SIZE)\n",
    "plt.rc('xtick', labelsize=SMALL_SIZE)\n",
    "plt.rc('ytick', labelsize=SMALL_SIZE)\n",
    "plt.rc('legend', fontsize=SMALL_SIZE)\n",
    "plt.rc('figure', titlesize=BIGGER_SIZE)\n",
    "\n",
    "# Define HSL values\n",
    "hue = 193\n",
    "saturation = 32\n",
    "lightness = 70\n",
    "\n",
    "hue /= 360\n",
    "saturation /= 100\n",
    "lightness /= 100\n",
    "\n",
    "# Convert HSL to RGB\n",
    "rgb_color = hsv_to_rgb((hue, saturation, lightness))\n",
    "\n",
    "figure, axis = plt.subplots(1, 1, figsize=(4, 4))\n",
    "\n",
    "for ax in ['top','bottom','left','right']:\n",
    "    axis.spines[ax].set_linewidth(2)\n",
    "\n",
    "sns.boxplot(data=avg_attrs_np_common, \n",
    "            x=\"Transcription Factors\", \n",
    "            y=\"Average Attribution\", \n",
    "            fill=True, \n",
    "            color=rgb_color, \n",
    "            width=0.3, \n",
    "            linewidth=2, \n",
    "            showfliers=False,\n",
    "            #boxprops=dict(color=\"black\"),      \n",
    "            whiskerprops=dict(color=\"black\"),  \n",
    "            capprops=dict(color=\"black\"),    \n",
    "            medianprops=dict(color=\"black\"))\n",
    "\n",
    "enriched_tfs = avg_attrs_np_common[avg_attrs_np_common['Transcription Factors'] == \"enriched\"]['Average Attribution'].to_list()\n",
    "depleted_tfs = avg_attrs_np_common[avg_attrs_np_common['Transcription Factors'] == \"other\"]['Average Attribution'].to_list()\n",
    "\n",
    "print(f\"enriched_tfs: {np.mean(enriched_tfs)}\")\n",
    "print(f\"depleted_tfs: {np.mean(depleted_tfs)}\")\n",
    "\n",
    "print(len(enriched_tfs), len(depleted_tfs))\n",
    "mwu = stats.mannwhitneyu(enriched_tfs, depleted_tfs, alternative=\"greater\")\n",
    "auc_mu = mwu[0]/(len(enriched_tfs)*len(depleted_tfs))\n",
    "print(f\"mwu p-value: {mwu[1]}\")\n",
    "print(f\"mwu AUROC: {auc_mu}\")\n",
    "\n",
    "\n",
    "axis.set_xticklabels([f\"Enriched TF motifs \\n(n={len(enriched_tfs)})\", f\"Other TF motifs \\n(n={len(depleted_tfs)})\"])\n",
    "axis.set_ylabel(f\"Mean Importance Score\")\n",
    "axis.spines['top'].set_visible(False)\n",
    "axis.spines['right'].set_visible(False)\n",
    "plt.tight_layout()\n",
    "plt.savefig(\"../../figures/tf_analysis/tf_importance_all.pdf\", transparent=True)\n",
    "plt.show()"
   ]
  },
  {
   "cell_type": "code",
   "execution_count": null,
   "id": "37227b41-db06-4af6-855b-b71e9a699cbd",
   "metadata": {},
   "outputs": [],
   "source": []
  }
 ],
 "metadata": {
  "kernelspec": {
   "display_name": "Python 3 (ipykernel)",
   "language": "python",
   "name": "python3"
  },
  "language_info": {
   "codemirror_mode": {
    "name": "ipython",
    "version": 3
   },
   "file_extension": ".py",
   "mimetype": "text/x-python",
   "name": "python",
   "nbconvert_exporter": "python",
   "pygments_lexer": "ipython3",
   "version": "3.8.5"
  }
 },
 "nbformat": 4,
 "nbformat_minor": 5
}
